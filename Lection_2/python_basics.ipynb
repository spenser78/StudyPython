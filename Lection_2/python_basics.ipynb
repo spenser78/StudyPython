{
 "cells": [
  {
   "cell_type": "markdown",
   "metadata": {},
   "source": [
    "**Задание 1**. Даны 2 строки: *long_phrase* и *short_phrase*. \n",
    "Напишите код, который проверяет действительно ли длинная фраза *long_phrase* длиннее короткой *short_phrase*. И выводит *True* или *False* в зависимости от результата сравнения."
   ]
  },
  {
   "cell_type": "code",
   "execution_count": 1,
   "metadata": {},
   "outputs": [],
   "source": [
    "long_phrase = 'Насколько проще было бы писать программы, если бы не заказчики'\n",
    "short_phrase = '640Кб должно хватить для любых задач. Билл Гейтс (по легенде)'"
   ]
  },
  {
   "cell_type": "code",
   "execution_count": 4,
   "metadata": {},
   "outputs": [
    {
     "data": {
      "text/plain": [
       "True"
      ]
     },
     "execution_count": 4,
     "metadata": {},
     "output_type": "execute_result"
    }
   ],
   "source": [
    "len(long_phrase) > len(short_phrase)"
   ]
  },
  {
   "cell_type": "markdown",
   "metadata": {},
   "source": [
    "**Задание 2**. Дано значение объема файла в байтах (*в мегабайте 2^20 байт*). Напишите перевод этого значения в мегабайты в формате: \"*Объем файла равен 213.68Mb*\"."
   ]
  },
  {
   "cell_type": "code",
   "execution_count": 7,
   "metadata": {},
   "outputs": [
    {
     "name": "stdout",
     "output_type": "stream",
     "text": [
      "Введите объем в байтах1000000\n",
      "Объем файла равен 0.95367431640625 Mb\n"
     ]
    }
   ],
   "source": [
    "user_input = int(input('Введите объем в байтах'))\n",
    "volume = user_input/1048576\n",
    "print('Объем файла равен', volume, 'Mb')"
   ]
  },
  {
   "cell_type": "markdown",
   "metadata": {},
   "source": [
    "**Задание 3**. Разработать приложение для определения знака зодиака по дате рождения. Пример:\n",
    "\n",
    "Введите месяц: март\n",
    "\n",
    "Введите число: 6\n",
    "\n",
    "Вывод:\n",
    "Рыбы"
   ]
  },
  {
   "cell_type": "code",
   "execution_count": 1,
   "metadata": {},
   "outputs": [
    {
     "ename": "IndentationError",
     "evalue": "unexpected indent (<ipython-input-1-1804ae3e9e77>, line 15)",
     "output_type": "error",
     "traceback": [
      "\u001b[1;36m  File \u001b[1;32m\"<ipython-input-1-1804ae3e9e77>\"\u001b[1;36m, line \u001b[1;32m15\u001b[0m\n\u001b[1;33m    if (int(Month)== 12 and int(Day) >= 22) or (int(Month)== 1 and int(Day) <= 19)):\u001b[0m\n\u001b[1;37m    ^\u001b[0m\n\u001b[1;31mIndentationError\u001b[0m\u001b[1;31m:\u001b[0m unexpected indent\n"
     ]
    }
   ],
   "source": [
    "# month_input = (input('Введите месяц'))\n",
    "# date_input = int(input('Введите число'))\n",
    "# months = {'январь':'Козерог', 'февраль':'Водолей', 'март':'Рыбы', 'апрель':'Овен', 'май':'Телец', 'июнь':'Близнецы', 'июль':'Рак', 'август':'Лев', 'сентябрь':'Дева', 'октябрь':'Весы', 'ноябрь':'Скорпион', 'декабрь':'Стрелец'}\n",
    "# for m in months:\n",
    "#     if month_input == m and date_input <=22:\n",
    "#         print(months[m])\n",
    "#     elif month_input == m and date_input > 22 <=31:\n",
    "#         print(months[m+1])\n",
    "\n",
    "\n",
    "\n",
    "Month = input(\"Введите месяц вашего рождения:\" )\n",
    "Day = input(\"Введите дату вашего рождения:\" )\n",
    "\n",
    "    if (int(Month)== 12 and int(Day) >= 22) or (int(Month)== 1 and int(Day) <= 19)):\n",
    "        zodiac_sign = (\"\\n Capricorn\")\n",
    "    elif ((int(Month)==1 and int(Day) >= 20)or(int(Month)==2 and int(Day)<= 17)):\n",
    "            zodiac_sign = (\"\\n aquarium\")\n",
    "    elif ((int(Month)==2 and int(Day) >= 18)or(int(Month)==3 and int(Day)<= 19)):\n",
    "            zodiac_sign = (\"\\n Pices\")\n",
    "    elif ((int(Month)==3 and int(Day) >= 20)or(int(Month)==4 and int(Day)<= 19)):\n",
    "            zodiac_sign = (\"\\n Aries\")\n",
    "    elif ((int(Month)==4 and int(Day) >= 20)or(int(Month)==5 and int(Day)<= 20)):\n",
    "            zodiac_sign = (\"\\n Taurus\")\n",
    "    elif ((int(Month)==5 and int(Day) >= 21)or(int(Month)==6 and int(Day)<= 20)):\n",
    "            zodiac_sign = (\"\\n Gemini\")\n",
    "    elif ((int(Month)==6 and int(Day) >= 21)or(int(Month)==7 and int(Day)<= 22)):\n",
    "            zodiac_sign = (\"\\n Cancer\")\n",
    "    elif ((int(Month)==7 and int(Day) >= 23)or(int(Month)==8 and int(Day)<= 22)):\n",
    "            zodiac_sign = (\"\\n Leo\")\n",
    "    elif ((int(Month)==8 and int(Day) >= 23)or(int(Month)==9 and int(Day)<= 22)):\n",
    "            zodiac_sign = (\"\\n Virgo\")\n",
    "    elif ((int(Month)==9 and int(Day) >= 23)or(int(Month)==10 and int(Day)<= 22)):\n",
    "            zodiac_sign = (\"\\n Libra\")\n",
    "    elif ((int(Month)==10 and int(Day) >= 23)or(int(Month)==11 and int(Day)<= 21)):\n",
    "            zodiac_sign = (\"\\n Scorpio\")\n",
    "    elif ((int(Month)==11 and int(Day) >= 22)or(int(Month)==12 and int(Day)<= 21)):\n",
    "            zodiac_sign = (\"\\n Sagittarius\")\n",
    "\n",
    "    print(zodiac_sign)\n"
   ]
  },
  {
   "cell_type": "markdown",
   "metadata": {},
   "source": [
    "**Задание 4**. Нужно разработать приложение для финансового планирования.\n",
    "Приложение учитывает сколько уходит на ипотеку, \"на жизнь\" и сколько нужно отложить на пенсию.\n",
    "Пользователь вводит:\n",
    "- заработанную плату в месяц.\n",
    "- сколько процентов от ЗП уходит на ипотеку.\n",
    "- сколько процентов от ЗП уходит \"на жизнь\".\n",
    "- сколько раз приходит премия в год.\n",
    "\n",
    "Остальная часть заработанной платы откладывается на пенсию.\n",
    "\n",
    "Также пользователю приходит премия в размере зарплаты, от которой половина уходит на отпуск, а вторая половина откладывается.\n",
    "\n",
    "Программа должна учитывать сколько премий было в год.\n",
    "\n",
    "Нужно вывести сколько денег тратит пользователь на ипотеку и сколько он накопит за год.\n",
    "\n",
    "Пример:\n",
    "\n",
    "Введите заработанную плату в месяц: 100000\n",
    "\n",
    "Введите сколько процентов уходит на ипотеку: 30\n",
    "\n",
    "Введите сколько процентов уходит на жизнь: 50\n",
    "\n",
    "Введите количество премий за год: 2\n",
    "\n",
    "Вывод:\n",
    "На ипотеку было потрачено: 360000 рублей\n",
    "Было накоплено: 340000 рублей"
   ]
  },
  {
   "cell_type": "code",
   "execution_count": null,
   "metadata": {},
   "outputs": [],
   "source": [
    "salary_input = int(input('Введите заработанную плату в месяц'))\n",
    "mortgage_input = int(input('Введите сколько процентов от ЗП уходит на ипотеку'))\n",
    "lifestyle_input = int(input('Введите сколько процентов от ЗП уходит \"на жизнь\"'))\n",
    "award_input = int(input('Введите сколько раз приходит премия в год'))\n",
    "\n",
    "income_total = (12+award_input)*salary_input\n",
    "\n",
    "mortage_spent = income_total*(mortgage_input/100)\n",
    "lifestyle_spent = income_total*(lifestyle_input/100)\n",
    "\n",
    "capital_save =  income_total-mortage_spent-lifestyle_spent\n",
    "\n",
    "print('На ипотеку было потрачено:', mortage_spent,' рублей. Было накоплено:', capital_save, 'рублей')"
   ]
  }
 ],
 "metadata": {
  "kernelspec": {
   "display_name": "Python 3",
   "language": "python",
   "name": "python3"
  },
  "language_info": {
   "codemirror_mode": {
    "name": "ipython",
    "version": 3
   },
   "file_extension": ".py",
   "mimetype": "text/x-python",
   "name": "python",
   "nbconvert_exporter": "python",
   "pygments_lexer": "ipython3",
   "version": "3.7.6"
  }
 },
 "nbformat": 4,
 "nbformat_minor": 2
}
